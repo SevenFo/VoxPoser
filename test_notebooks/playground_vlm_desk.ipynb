{
 "cells": [
  {
   "cell_type": "code",
   "execution_count": null,
   "id": "293d6ba1-075d-424d-8c05-a4c3c51940da",
   "metadata": {
    "ExecutionIndicator": {
     "show": false
    },
    "execution": {
     "iopub.execute_input": "2024-01-22T03:07:36.865709Z",
     "iopub.status.busy": "2024-01-22T03:07:36.865189Z",
     "iopub.status.idle": "2024-01-22T03:07:36.874960Z",
     "shell.execute_reply": "2024-01-22T03:07:36.874132Z",
     "shell.execute_reply.started": "2024-01-22T03:07:36.865664Z"
    },
    "tags": []
   },
   "outputs": [],
   "source": []
  },
  {
   "cell_type": "code",
   "execution_count": null,
   "id": "71414f2d-ee62-4e0d-a4ec-15c165aa6a2f",
   "metadata": {
    "ExecutionIndicator": {
     "show": true
    },
    "execution": {
     "iopub.execute_input": "2024-01-25T09:13:34.456846Z",
     "iopub.status.busy": "2024-01-25T09:13:34.456339Z",
     "iopub.status.idle": "2024-01-25T09:13:40.806941Z",
     "shell.execute_reply": "2024-01-25T09:13:40.805934Z",
     "shell.execute_reply.started": "2024-01-25T09:13:34.456792Z"
    },
    "tags": []
   },
   "outputs": [],
   "source": [
    "# -*- coding: utf-8 -*-\n",
    "%cd ./src\n",
    "import openai\n",
    "from pyvirtualdisplay import Display\n",
    "import torch\n",
    "import open3d as o3d\n",
    "\n",
    "from arguments import get_config, load_config\n",
    "from interfaces import setup_LMP, LMP_interface\n",
    "from visualizers import ValueMapVisualizer\n",
    "from envs.rlbench_env import VoxPoserRLBench\n",
    "from utils import set_lmp_objects\n",
    "import numpy as np\n",
    "from rlbench import tasks\n",
    "import engine_interfaces\n",
    "\n",
    "from VLMPipline.VLM import VLM\n",
    "\n",
    "torch.set_grad_enabled(False)\n",
    "disp = Display(visible=False, size=(1920, 1080))\n",
    "disp.start()\n",
    "\n",
    "# load other config file (LMP, visualization, visual env, etc.)\n",
    "config = get_config(\"rlbench\")\n",
    "# load engine config file (spark v3)\n",
    "sparkv3_engine_config = load_config(\n",
    "    \"/mnt/workspace/src/configs/sparkv3_config.yaml\"\n",
    ")\n",
    "erniev4_engine_config = load_config(\n",
    "    \"/mnt/workspace/src/configs/ERNIEv4_config.yaml\"\n",
    ")\n",
    "print(sparkv3_engine_config)\n",
    "print(erniev4_engine_config)\n",
    "\n",
    "# vlm config\n",
    "owlv2_model_path = \"/models/google-owlv2-large-patch14-finetuned\"\n",
    "owlv2_model_path = \"/models/google-owlv2-base-patch16-ensemble\"\n",
    "sam_model_path = \"/models/facebook-sam-vit-huge\"\n",
    "# sam_model_path = \"/models/facebook-sam-vit-base\"\n",
    "xmem_model_path = \"/models/XMem.pth\"\n",
    "resnet_18_path = \"/models/resnet18.pth\"\n",
    "resnet_50_path = \"/models/resnet50.pth\""
   ]
  },
  {
   "cell_type": "code",
   "execution_count": null,
   "id": "f2ee8262-8ae7-42cf-b1f4-1ff23c6af6eb",
   "metadata": {
    "ExecutionIndicator": {
     "show": true
    },
    "execution": {
     "iopub.execute_input": "2024-01-25T09:15:00.223975Z",
     "iopub.status.busy": "2024-01-25T09:15:00.223375Z",
     "iopub.status.idle": "2024-01-25T09:19:03.875859Z",
     "shell.execute_reply": "2024-01-25T09:19:03.874937Z",
     "shell.execute_reply.started": "2024-01-25T09:15:00.223938Z"
    },
    "tags": []
   },
   "outputs": [],
   "source": [
    "vlmpipeline = VLM(\n",
    "    owlv2_model_path,\n",
    "    sam_model_path,\n",
    "    xmem_model_path,\n",
    "    resnet_18_path,\n",
    "    resnet_50_path,\n",
    "    verbose=True,\n",
    "    resize_to=[640,640]\n",
    ")\n",
    "\n",
    "# uncomment this if you'd like to change the language model (e.g., for faster speed or lower cost)\n",
    "# for lmp_name, cfg in config['lmp_config']['lmps'].items():\n",
    "#     cfg['model'] = 'gpt-3.5-turbo'\n",
    "\n",
    "# initialize env and voxposer ui\n",
    "visualizer = ValueMapVisualizer(config[\"visualizer\"])\n",
    "env = VoxPoserRLBench(visualizer=visualizer, headless=True, vlmpipeline=vlmpipeline, scene_obs_size=640)\n",
    "engine_sparkv3 = getattr(engine_interfaces, sparkv3_engine_config[\"type\"])(\n",
    "    **sparkv3_engine_config\n",
    ")  # engine initialization\n",
    "engine_erniev4 = getattr(engine_interfaces, erniev4_engine_config[\"type\"])(\n",
    "    **erniev4_engine_config\n",
    ")  # engine initialization\n",
    "lmps, lmp_env = setup_LMP(env, config, debug=False, engine_call_fn=engine_erniev4)\n",
    "voxposer_ui = lmps[\"plan_ui\"]\n",
    "\n",
    "# below are the tasks that have object names added to the \"task_object_names.json\" file\n",
    "# uncomment one to use\n",
    "env.load_task(tasks.PutRubbishInBin)\n",
    "# env.load_task(tasks.LampOff)\n",
    "# env.load_task(tasks.OpenWineBottle)\n",
    "# env.load_task(tasks.PushButton)\n",
    "# env.load_task(tasks.TakeOffWeighingScales)\n",
    "# env.load_task(tasks.MeatOffGrill)\n",
    "# env.load_task(tasks.SlideBlockToTarget)\n",
    "# env.load_task(tasks.TakeLidOffSaucepan)\n",
    "# env.load_task(tasks.TakeUmbrellaOutOfUmbrellaStand)\n",
    "descriptions, obs = env.reset()\n",
    "controller_config = config[\"controller\"]\n",
    "planner_config = config[\"planner\"]\n",
    "lmp_env_config = config[\"lmp_config\"][\"env\"]\n",
    "lmps_config = config[\"lmp_config\"][\"lmps\"]\n",
    "env_name = config[\"env_name\"]\n",
    "# LMP env wrapper\n",
    "lmp_env = LMP_interface(\n",
    "    env, lmp_env_config, controller_config, planner_config, env_name=env_name\n",
    ")\n",
    "# object = \"tomato\"\n",
    "# result = lmp_env.detect(object)\n",
    "set_lmp_objects(\n",
    "    lmps, env.get_object_names()\n",
    ")  # set the object names to be used by voxposer\n",
    "\n",
    "# 关于task description从哪里来的: rlbench 内置了一些task，并且这些task有多种描述，ref:https://github.com/stepjam/RLBench/blob/master/tutorials/simple_task.md\n",
    "instruction = np.random.choice(descriptions)\n",
    "instruction = \"put rubbish in bin\"\n",
    "# instruction = \"throw away the trash, leaving any other objects alone\"\n",
    "voxposer_ui(instruction)\n"
   ]
  },
  {
   "cell_type": "code",
   "execution_count": null,
   "id": "43338855-56fa-4bb1-8f50-9ee3d2605edc",
   "metadata": {
    "ExecutionIndicator": {
     "show": true
    },
    "execution": {
     "iopub.status.busy": "2024-01-22T07:27:20.699543Z",
     "iopub.status.idle": "2024-01-22T07:27:20.700155Z",
     "shell.execute_reply": "2024-01-22T07:27:20.700013Z",
     "shell.execute_reply.started": "2024-01-22T07:27:20.699999Z"
    },
    "tags": []
   },
   "outputs": [],
   "source": [
    "for idx, item in enumerate(result):\n",
    "    pcd_vector = o3d.geometry.PointCloud()\n",
    "    pcd_vector.points = o3d.utility.Vector3dVector(item['_point_cloud_world'])\n",
    "    # origin = pcd_vector.get_center()\n",
    "    # coordinate = o3d.geometry.TriangleMesh.create_coordinate_frame(size=0.2,origin=origin)\n",
    "    # o3d.visualization.draw_geometries([pcd_vector,coordinate])\n",
    "    o3d.io.write_point_cloud(f'{object}_{idx}.pcd',pcd_vector)\n",
    "print(result)\n",
    "    # set_lmp_objects(\n",
    "    #     lmps, env.get_object_names()\n",
    "    # )  # set the object names to be used by voxposer\n",
    "\n",
    "    # # 关于task description从哪里来的: rlbench 内置了一些task，并且这些task有多种描述，ref:https://github.com/stepjam/RLBench/blob/master/tutorials/simple_task.md\n",
    "    # instruction = np.random.choice(descriptions)\n",
    "    # # instruction = \"throw away the trash, leaving any other objects alone\"\n",
    "    # voxposer_ui(instruction)\n"
   ]
  },
  {
   "cell_type": "code",
   "execution_count": null,
   "id": "b7ef79f0-9999-4ff6-8639-bf7b40043d52",
   "metadata": {},
   "outputs": [],
   "source": [
    "disp.stop()"
   ]
  }
 ],
 "metadata": {
  "kernelspec": {
   "display_name": "Python 3 (ipykernel)",
   "language": "python",
   "name": "python3"
  },
  "language_info": {
   "codemirror_mode": {
    "name": "ipython",
    "version": 3
   },
   "file_extension": ".py",
   "mimetype": "text/x-python",
   "name": "python",
   "nbconvert_exporter": "python",
   "pygments_lexer": "ipython3",
   "version": "3.9.5"
  }
 },
 "nbformat": 4,
 "nbformat_minor": 5
}
