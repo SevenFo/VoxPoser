{
 "cells": [
  {
   "cell_type": "code",
   "execution_count": null,
   "metadata": {},
   "outputs": [],
   "source": [
    "%cd src\n"
   ]
  },
  {
   "cell_type": "code",
   "execution_count": null,
   "metadata": {},
   "outputs": [],
   "source": [
    "from envs.pyrep_env.pyrep_quad_env import VoxPoserPyRepQuadcopterEnv\n",
    "coppelia_scene_path = \"/voxdata/workspace/quadcopter.ttt\"\n",
    "env = VoxPoserPyRepQuadcopterEnv(coppelia_scene_path, headless=True)\n",
    "obs = env.reset()"
   ]
  },
  {
   "cell_type": "code",
   "execution_count": null,
   "metadata": {},
   "outputs": [],
   "source": [
    "env.apply_action([3.0,-2.0,1.8,0,0,0,0,0,0,0])"
   ]
  },
  {
   "cell_type": "code",
   "execution_count": null,
   "metadata": {},
   "outputs": [],
   "source": [
    "import matplotlib.pyplot as plt\n",
    "env.latest_obs = env.get_obs()\n",
    "# print(env.latest_obs.cam_SE_rgb.shape)\n",
    "plt.imshow(env.latest_obs.cam_NE_rgb)\n",
    "plt.show()\n",
    "plt.imshow(env.latest_obs.cam_SE_rgb)\n",
    "plt.show()\n",
    "plt.imshow(env.latest_obs.cam_NW_rgb)\n",
    "plt.show()\n",
    "plt.imshow(env.latest_obs.cam_SW_rgb)\n",
    "plt.show()\n",
    "plt.imshow(env.latest_obs.Quadricopter_cam_rgb)"
   ]
  },
  {
   "cell_type": "code",
   "execution_count": null,
   "metadata": {},
   "outputs": [],
   "source": [
    "env._pyrep.stop()\n",
    "env._pyrep.shutdown()"
   ]
  }
 ],
 "metadata": {
  "kernelspec": {
   "display_name": "Python 3",
   "language": "python",
   "name": "python3"
  },
  "language_info": {
   "codemirror_mode": {
    "name": "ipython",
    "version": 3
   },
   "file_extension": ".py",
   "mimetype": "text/x-python",
   "name": "python",
   "nbconvert_exporter": "python",
   "pygments_lexer": "ipython3",
   "version": "3.9.5"
  }
 },
 "nbformat": 4,
 "nbformat_minor": 2
}
