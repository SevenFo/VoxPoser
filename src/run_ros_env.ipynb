{
 "cells": [
  {
   "cell_type": "code",
   "execution_count": null,
   "metadata": {},
   "outputs": [
    {
     "ename": "",
     "evalue": "",
     "output_type": "error",
     "traceback": [
      "\u001b[1;31m无法启动 Kernel。 \n",
      "\u001b[1;31m由于连接超时，无法启动 Kernel \"Python 3.9.5\"。 \n",
      "\u001b[1;31m查看 Jupyter <a href='command:jupyter.viewOutput'>log</a>，了解更多详细信息。"
     ]
    }
   ],
   "source": [
    "import rospy\n",
    "from envs.ros_env.ros_env import VoxPoserROSDroneEnv\n",
    "from VLMPipline.VLM import VLM\n",
    "\n",
    "if __name__ == '__main__':\n",
    "    # vlm config\n",
    "    owlv2_model_path = \"/models/google-owlv2-large-patch14-finetuned\"\n",
    "    owlv2_model_path = \"/models/google-owlv2-base-patch16-ensemble\"\n",
    "    sam_model_path = \"/models/facebook-sam-vit-huge\"\n",
    "    # sam_model_path = \"/models/facebook-sam-vit-base\"\n",
    "    xmem_model_path = \"/models/XMem.pth\"\n",
    "    resnet_18_path = \"/models/resnet18.pth\"\n",
    "    resnet_50_path = \"/models/resnet50.pth\"\n",
    "    \n",
    "    rospy.init_node('voxposer_ros_drone_env')\n",
    "    vlmpipeline = VLM(\n",
    "        owlv2_model_path,\n",
    "        sam_model_path,\n",
    "        xmem_model_path,\n",
    "        resnet_18_path,\n",
    "        resnet_50_path,\n",
    "        verbose=True,\n",
    "        resize_to=[640, 640],\n",
    "        verbose_frame_every=1,\n",
    "        input_batch_size=5,\n",
    "    )\n",
    "    env = VoxPoserROSDroneEnv()\n",
    "    rospy.spin()\n",
    "    # env.takeoff()\n",
    "    # env.land()\n",
    "    # env.move(0.1, 0.1, 0.1, 0.1)\n",
    "    # env.get_pose()"
   ]
  }
 ],
 "metadata": {
  "kernelspec": {
   "display_name": "Python 3",
   "language": "python",
   "name": "python3"
  },
  "language_info": {
   "name": "python",
   "version": "3.9.5"
  }
 },
 "nbformat": 4,
 "nbformat_minor": 2
}
