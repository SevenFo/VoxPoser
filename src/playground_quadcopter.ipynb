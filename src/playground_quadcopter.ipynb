{
 "cells": [
  {
   "cell_type": "code",
   "execution_count": null,
   "metadata": {
    "execution": {
     "iopub.execute_input": "2024-01-27T04:19:10.359822Z",
     "iopub.status.busy": "2024-01-27T04:19:10.359051Z",
     "iopub.status.idle": "2024-01-27T04:19:14.219440Z",
     "shell.execute_reply": "2024-01-27T04:19:14.218337Z",
     "shell.execute_reply.started": "2024-01-27T04:19:10.359782Z"
    },
    "tags": []
   },
   "outputs": [],
   "source": [
    "from pyvirtualdisplay import Display\n",
    "from pyvirtualdisplay import Display\n",
    "import torch\n",
    "import open3d as o3d\n",
    "\n",
    "from arguments import get_config, load_config\n",
    "from interfaces import setup_LMP, LMP_interface\n",
    "from visualizers import ValueMapVisualizer\n",
    "from utils import set_lmp_objects\n",
    "import numpy as np\n",
    "import engine_interfaces\n",
    "from envs.pyrep_quad_env import VoxPoserPyRepQuadcopterEnv\n",
    "from engine_interfaces import Dummy\n",
    "from VLMPipline.VLM import VLM\n",
    "\n",
    "torch.set_grad_enabled(False)\n",
    "disp = Display(visible=False, size=(1920, 1080))\n",
    "disp.start()\n",
    "# vlm config\n",
    "owlv2_model_path = \"/models/google-owlv2-large-patch14-finetuned\"\n",
    "owlv2_model_path = \"/models/google-owlv2-base-patch16-ensemble\"\n",
    "sam_model_path = \"/models/facebook-sam-vit-huge\"\n",
    "# sam_model_path = \"/models/facebook-sam-vit-base\"\n",
    "xmem_model_path = \"/models/XMem.pth\"\n",
    "resnet_18_path = \"/models/resnet18.pth\"\n",
    "resnet_50_path = \"/models/resnet50.pth\"\n",
    "config_path = \"configs/pyrep_quadcopter.yaml\"\n",
    "scene_path = \"./scene/quadcopter.ttt\"\n",
    "env_config = get_config(config_path=config_path)\n",
    "vlmpipeline = VLM(\n",
    "    owlv2_model_path,\n",
    "    sam_model_path,\n",
    "    xmem_model_path,\n",
    "    resnet_18_path,\n",
    "    resnet_50_path,\n",
    "    verbose=True,\n",
    "    resize_to=[480,480],\n",
    "    verbose_frame_every=1,\n",
    "    input_batch_size=5\n",
    ")\n",
    "# sparkv3_engine_config = load_config(\n",
    "#     \"/root/workspace/VoxPoser/src/configs/sparkv3_config.yaml\"\n",
    "# )\n",
    "erniev4_engine_config = load_config(\n",
    "    \"/mnt/workspace/src/configs/ERNIEv4_config.yaml\"\n",
    ")\n",
    "engine_erniev4 = getattr(engine_interfaces, erniev4_engine_config[\"type\"])(\n",
    "    **erniev4_engine_config\n",
    ")  # engine initialization"
   ]
  },
  {
   "cell_type": "code",
   "execution_count": null,
   "metadata": {
    "execution": {
     "iopub.execute_input": "2024-01-27T04:19:25.907952Z",
     "iopub.status.busy": "2024-01-27T04:19:25.907115Z",
     "iopub.status.idle": "2024-01-27T04:19:51.875462Z",
     "shell.execute_reply": "2024-01-27T04:19:51.874467Z",
     "shell.execute_reply.started": "2024-01-27T04:19:25.907888Z"
    },
    "tags": []
   },
   "outputs": [],
   "source": [
    "\n",
    "\n",
    "visualizer = ValueMapVisualizer(env_config['visualizer'])\n",
    "env = VoxPoserPyRepQuadcopterEnv(visualizer=visualizer,headless=True,coppelia_scene_path=scene_path,vlmpipeline=vlmpipeline)\n",
    "descriptions, obs = env.reset()\n",
    "lmps, lmp_env = setup_LMP(env, env_config, debug=False, engine_call_fn=engine_erniev4)\n",
    "voxposer_ui = lmps['plan_ui']\n",
    "set_lmp_objects(lmps, env.get_object_names())\n",
    "\n",
    "voxposer_ui(descriptions)\n"
   ]
  },
  {
   "cell_type": "code",
   "execution_count": null,
   "metadata": {},
   "outputs": [],
   "source": [
    "env._pyrep.stop()\n",
    "env._pyrep.shutdown()\n",
    "disp.stop()"
   ]
  }
 ],
 "metadata": {
  "kernelspec": {
   "display_name": "Python 3 (ipykernel)",
   "language": "python",
   "name": "python3"
  },
  "language_info": {
   "codemirror_mode": {
    "name": "ipython",
    "version": 3
   },
   "file_extension": ".py",
   "mimetype": "text/x-python",
   "name": "python",
   "nbconvert_exporter": "python",
   "pygments_lexer": "ipython3",
   "version": "3.9.5"
  },
  "share": {
   "datetime": "2024-01-27T04:21:03.657Z",
   "image": {
    "name": "ubuntu2004-cu113-torch112-python39-cop41",
    "url": "registry-vpc.cn-shanghai.aliyuncs.com/embodied_ai/voxposer:ubuntu20-cu11.3-torch1.12-python3.9-cop4.1"
   },
   "instance": "dsw-f4ef35fb2fa8eaa6",
   "spec": {
    "id": "ecs.gn6v-c8g1.2xlarge",
    "type": "GPU"
   },
   "uid": "1906424844011182"
  }
 },
 "nbformat": 4,
 "nbformat_minor": 4
}
