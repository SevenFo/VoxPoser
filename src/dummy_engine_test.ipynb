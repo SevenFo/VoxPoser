{
 "cells": [
  {
   "cell_type": "code",
   "execution_count": null,
   "metadata": {},
   "outputs": [],
   "source": [
    "%ls"
   ]
  },
  {
   "cell_type": "code",
   "execution_count": 1,
   "metadata": {},
   "outputs": [
    {
     "name": "stdout",
     "output_type": "stream",
     "text": [
      "Jupyter environment detected. Enabling Open3D WebVisualizer.\n",
      "[Open3D INFO] WebRTC GUI backend enabled.\n",
      "[Open3D INFO] WebRTCWindowSystem: HTTP handshake server disabled.\n",
      "Using GPU\n",
      "Using GPU\n",
      "Hyperparameters read from the model weights: C^k=64, C^v=512, C^h=64\n",
      "Single object mode: False\n"
     ]
    }
   ],
   "source": [
    "from pyvirtualdisplay import Display\n",
    "from pyvirtualdisplay import Display\n",
    "import torch\n",
    "import open3d as o3d\n",
    "\n",
    "from arguments import get_config, load_config\n",
    "from interfaces import setup_LMP, LMP_interface\n",
    "from visualizers import ValueMapVisualizer\n",
    "from utils import set_lmp_objects\n",
    "import numpy as np\n",
    "import engine_interfaces\n",
    "from envs.pyrep_quad_env import VoxPoserPyRepQuadcopterEnv\n",
    "from engine_interfaces import Dummy\n",
    "from VLMPipline.VLM import VLM\n",
    "\n",
    "torch.set_grad_enabled(False)\n",
    "disp = Display(visible=False, size=(1920, 1080))\n",
    "disp.start()\n",
    "# vlm config\n",
    "owlv2_model_path = \"/models/google-owlv2-large-patch14-finetuned\"\n",
    "owlv2_model_path = \"/models/google-owlv2-base-patch16-ensemble\"\n",
    "sam_model_path = \"/models/facebook-sam-vit-huge\"\n",
    "# sam_model_path = \"/models/facebook-sam-vit-base\"\n",
    "xmem_model_path = \"/models/XMem.pth\"\n",
    "resnet_18_path = \"/models/resnet18.pth\"\n",
    "resnet_50_path = \"/models/resnet50.pth\"\n",
    "config_path = \"configs/pyrep_quadcopter.yaml\"\n",
    "scene_path = \"./scene/quadcopter.ttt\"\n",
    "config = get_config(config_path=config_path)\n",
    "vlmpipeline = VLM(\n",
    "    owlv2_model_path,\n",
    "    sam_model_path,\n",
    "    xmem_model_path,\n",
    "    resnet_18_path,\n",
    "    resnet_50_path,\n",
    "    verbose=True,\n",
    "    resize_to=[640,640],\n",
    "    verbose_frame_every=1,\n",
    ")\n"
   ]
  },
  {
   "cell_type": "code",
   "execution_count": 2,
   "metadata": {},
   "outputs": [
    {
     "name": "stderr",
     "output_type": "stream",
     "text": [
      "QStandardPaths: XDG_RUNTIME_DIR not set, defaulting to '/tmp/runtime-root'\n"
     ]
    },
    {
     "name": "stdout",
     "output_type": "stream",
     "text": [
      "\u001b[92mCamera parameters:\u001b[0m {'cam_NE': {'extrinsic_params': array([[ 7.07106709e-01,  0.00000000e+00, -7.07106888e-01,\n",
      "         4.80000019e+00],\n",
      "       [-7.07106888e-01, -1.19209290e-07, -7.07106829e-01,\n",
      "         4.80000019e+00],\n",
      "       [ 0.00000000e+00,  1.00000012e+00, -1.19209290e-07,\n",
      "         1.50000000e+00],\n",
      "       [ 0.00000000e+00,  0.00000000e+00,  0.00000000e+00,\n",
      "         1.00000000e+00]]), 'intrinsic_params': array([[-659.3946015,    0.       ,  240.       ],\n",
      "       [   0.       , -659.3946015,  240.       ],\n",
      "       [   0.       ,    0.       ,    1.       ]]), 'far_near': (20.0, 0.009999999776482582)}, 'cam_NW': {'extrinsic_params': array([[ 7.07106709e-01,  0.00000000e+00,  7.07106888e-01,\n",
      "        -4.80000019e+00],\n",
      "       [ 7.07106888e-01, -1.19209290e-07, -7.07106829e-01,\n",
      "         4.80000019e+00],\n",
      "       [ 0.00000000e+00,  1.00000012e+00, -1.19209290e-07,\n",
      "         1.50000000e+00],\n",
      "       [ 0.00000000e+00,  0.00000000e+00,  0.00000000e+00,\n",
      "         1.00000000e+00]]), 'intrinsic_params': array([[-659.3946015,    0.       ,  240.       ],\n",
      "       [   0.       , -659.3946015,  240.       ],\n",
      "       [   0.       ,    0.       ,    1.       ]]), 'far_near': (25.0, 0.009999999776482582)}, 'cam_SE': {'extrinsic_params': array([[-7.07106948e-01,  0.00000000e+00, -7.07106829e-01,\n",
      "         4.80000019e+00],\n",
      "       [-7.07106829e-01, -1.19209290e-07,  7.07106829e-01,\n",
      "        -4.80000019e+00],\n",
      "       [ 0.00000000e+00,  1.00000012e+00, -1.19209290e-07,\n",
      "         1.50000000e+00],\n",
      "       [ 0.00000000e+00,  0.00000000e+00,  0.00000000e+00,\n",
      "         1.00000000e+00]]), 'intrinsic_params': array([[-659.3946015,    0.       ,  240.       ],\n",
      "       [   0.       , -659.3946015,  240.       ],\n",
      "       [   0.       ,    0.       ,    1.       ]]), 'far_near': (25.0, 0.009999999776482582)}, 'cam_SW': {'extrinsic_params': array([[-7.07107186e-01,  0.00000000e+00,  7.07106709e-01,\n",
      "        -4.80000019e+00],\n",
      "       [ 7.07106709e-01, -1.19209290e-07,  7.07107067e-01,\n",
      "        -4.80000019e+00],\n",
      "       [ 0.00000000e+00,  1.00000012e+00, -1.19209290e-07,\n",
      "         1.50000000e+00],\n",
      "       [ 0.00000000e+00,  0.00000000e+00,  0.00000000e+00,\n",
      "         1.00000000e+00]]), 'intrinsic_params': array([[-659.3946015,    0.       ,  240.       ],\n",
      "       [   0.       , -659.3946015,  240.       ],\n",
      "       [   0.       ,    0.       ,    1.       ]]), 'far_near': (25.0, 0.009999999776482582)}, 'Quadricopter_cam': {'extrinsic_params': array([[ 5.96046448e-08,  6.01815104e-01,  7.98635483e-01,\n",
      "         0.00000000e+00],\n",
      "       [ 1.00000000e+00,  5.96046448e-08, -1.49011612e-07,\n",
      "         0.00000000e+00],\n",
      "       [-1.49011612e-07,  7.98635483e-01, -6.01815104e-01,\n",
      "         2.50000000e+00],\n",
      "       [ 0.00000000e+00,  0.00000000e+00,  0.00000000e+00,\n",
      "         1.00000000e+00]]), 'intrinsic_params': array([[-415.69217983,    0.        ,  240.        ],\n",
      "       [   0.        , -415.69217983,  240.        ],\n",
      "       [   0.        ,    0.        ,    1.        ]]), 'far_near': (10.0, 0.10000000149011612)}}\n",
      "we only process these objects: ['table']\n"
     ]
    },
    {
     "name": "stderr",
     "output_type": "stream",
     "text": [
      "/mnt/workspace/src/VLMPipline/VLM.py:83: UserWarning: the frame shape has been changed by resizing, (3, 480, 480) -> (3, 640, 640), so we will resize the finnal mask to the original shape, which may cause some problems.\n",
      "  warnings.warn(f\"the frame shape has been changed by resizing, {self.original_frame_shape} -> {frame.shape}, so we will resize the finnal mask to the original shape, which may cause some problems.\")\n"
     ]
    }
   ],
   "source": [
    "\n",
    "\n",
    "visualizer = ValueMapVisualizer(config['visualizer'])\n",
    "env = VoxPoserPyRepQuadcopterEnv(visualizer=visualizer,headless=True,coppelia_scene_path=scene_path,vlmpipeline=vlmpipeline)\n",
    "descriptions, obs = env.reset()\n",
    "dummy_engine = Dummy()\n",
    "lmps, lmp_env = setup_LMP(env, config, debug=False, engine_call_fn=dummy_engine.__call__)\n",
    "voxposer_ui = lmps['plan_ui']\n",
    "set_lmp_objects(lmps, env.get_object_names())\n",
    "\n",
    "voxposer_ui(descriptions)\n"
   ]
  },
  {
   "cell_type": "code",
   "execution_count": null,
   "metadata": {},
   "outputs": [],
   "source": [
    "env._pyrep.stop()\n",
    "env._pyrep.shutdown()"
   ]
  }
 ],
 "metadata": {
  "kernelspec": {
   "display_name": "Python 3",
   "language": "python",
   "name": "python3"
  },
  "language_info": {
   "codemirror_mode": {
    "name": "ipython",
    "version": 3
   },
   "file_extension": ".py",
   "mimetype": "text/x-python",
   "name": "python",
   "nbconvert_exporter": "python",
   "pygments_lexer": "ipython3",
   "version": "3.9.5"
  }
 },
 "nbformat": 4,
 "nbformat_minor": 2
}
