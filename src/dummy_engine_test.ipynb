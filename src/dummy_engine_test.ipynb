{
 "cells": [
  {
   "cell_type": "code",
   "execution_count": 1,
   "metadata": {},
   "outputs": [
    {
     "name": "stdout",
     "output_type": "stream",
     "text": [
      "LLM_cache.py  code-history.txt         \u001b[0m\u001b[01;34menvs\u001b[0m/               \u001b[01;34mprompts\u001b[0m/\n",
      "LMP.py        \u001b[01;34mconfigs\u001b[0m/                 interfaces.py       qudacopter.py\n",
      "\u001b[01;34mVLMPipline\u001b[0m/   controllers.py           planners.py         utils.py\n",
      "\u001b[01;34m__pycache__\u001b[0m/  dummy_engine_test.ipynb  playground.ipynb    \u001b[01;34mvisualizations\u001b[0m/\n",
      "arguments.py  dynamics_models.py       playground.py       visualizers.py\n",
      "\u001b[01;36mcache\u001b[0m@        engine_interfaces.py     playground_test.py\n"
     ]
    }
   ],
   "source": [
    "%ls"
   ]
  },
  {
   "cell_type": "code",
   "execution_count": 2,
   "metadata": {},
   "outputs": [
    {
     "name": "stdout",
     "output_type": "stream",
     "text": [
      "Jupyter environment detected. Enabling Open3D WebVisualizer.\n",
      "[Open3D INFO] WebRTC GUI backend enabled.\n",
      "[Open3D INFO] WebRTCWindowSystem: HTTP handshake server disabled.\n",
      "Using GPU\n",
      "Using GPU\n"
     ]
    },
    {
     "name": "stderr",
     "output_type": "stream",
     "text": [
      "QStandardPaths: XDG_RUNTIME_DIR points to non-existing path '/run/user/1000/', please create it with 0700 permissions.\n"
     ]
    },
    {
     "name": "stdout",
     "output_type": "stream",
     "text": [
      "\u001b[92mCamera parameters:\u001b[0m {'cam_NE': {'extrinsic_params': array([[ 7.07106709e-01,  0.00000000e+00, -7.07106888e-01,\n",
      "         4.80000019e+00],\n",
      "       [-7.07106888e-01, -1.19209290e-07, -7.07106829e-01,\n",
      "         4.80000019e+00],\n",
      "       [ 0.00000000e+00,  1.00000012e+00, -1.19209290e-07,\n",
      "         1.50000000e+00],\n",
      "       [ 0.00000000e+00,  0.00000000e+00,  0.00000000e+00,\n",
      "         1.00000000e+00]]), 'intrinsic_params': array([[-659.3946015,    0.       ,  240.       ],\n",
      "       [   0.       , -659.3946015,  240.       ],\n",
      "       [   0.       ,    0.       ,    1.       ]]), 'far_near': (20.0, 0.009999999776482582)}, 'cam_NW': {'extrinsic_params': array([[ 7.07106709e-01,  0.00000000e+00,  7.07106888e-01,\n",
      "        -4.80000019e+00],\n",
      "       [ 7.07106888e-01, -1.19209290e-07, -7.07106829e-01,\n",
      "         4.80000019e+00],\n",
      "       [ 0.00000000e+00,  1.00000012e+00, -1.19209290e-07,\n",
      "         1.50000000e+00],\n",
      "       [ 0.00000000e+00,  0.00000000e+00,  0.00000000e+00,\n",
      "         1.00000000e+00]]), 'intrinsic_params': array([[-659.3946015,    0.       ,  240.       ],\n",
      "       [   0.       , -659.3946015,  240.       ],\n",
      "       [   0.       ,    0.       ,    1.       ]]), 'far_near': (25.0, 0.009999999776482582)}, 'cam_SE': {'extrinsic_params': array([[-7.07106948e-01,  0.00000000e+00, -7.07106829e-01,\n",
      "         4.80000019e+00],\n",
      "       [-7.07106829e-01, -1.19209290e-07,  7.07106829e-01,\n",
      "        -4.80000019e+00],\n",
      "       [ 0.00000000e+00,  1.00000012e+00, -1.19209290e-07,\n",
      "         1.50000000e+00],\n",
      "       [ 0.00000000e+00,  0.00000000e+00,  0.00000000e+00,\n",
      "         1.00000000e+00]]), 'intrinsic_params': array([[-659.3946015,    0.       ,  240.       ],\n",
      "       [   0.       , -659.3946015,  240.       ],\n",
      "       [   0.       ,    0.       ,    1.       ]]), 'far_near': (25.0, 0.009999999776482582)}, 'cam_SW': {'extrinsic_params': array([[-7.07107186e-01,  0.00000000e+00,  7.07106709e-01,\n",
      "        -4.80000019e+00],\n",
      "       [ 7.07106709e-01, -1.19209290e-07,  7.07107067e-01,\n",
      "        -4.80000019e+00],\n",
      "       [ 0.00000000e+00,  1.00000012e+00, -1.19209290e-07,\n",
      "         1.50000000e+00],\n",
      "       [ 0.00000000e+00,  0.00000000e+00,  0.00000000e+00,\n",
      "         1.00000000e+00]]), 'intrinsic_params': array([[-659.3946015,    0.       ,  240.       ],\n",
      "       [   0.       , -659.3946015,  240.       ],\n",
      "       [   0.       ,    0.       ,    1.       ]]), 'far_near': (25.0, 0.009999999776482582)}, 'Quadricopter_cam': {'extrinsic_params': array([[ 5.96046448e-08,  6.01815104e-01,  7.98635483e-01,\n",
      "         0.00000000e+00],\n",
      "       [ 1.00000000e+00,  5.96046448e-08, -1.49011612e-07,\n",
      "         0.00000000e+00],\n",
      "       [-1.49011612e-07,  7.98635483e-01, -6.01815104e-01,\n",
      "         2.50000000e+00],\n",
      "       [ 0.00000000e+00,  0.00000000e+00,  0.00000000e+00,\n",
      "         1.00000000e+00]]), 'intrinsic_params': array([[-415.69217983,    0.        ,  240.        ],\n",
      "       [   0.        , -415.69217983,  240.        ],\n",
      "       [   0.        ,    0.        ,    1.        ]]), 'far_near': (10.0, 0.10000000149011612)}}\n",
      "we only process these objects: ['table']\n",
      "##################################################\n",
      "## voxel resolution: [0.1 0.1 0.1]\n",
      "##################################################\n",
      "\n",
      "\n",
      "calling level: 8\n"
     ]
    },
    {
     "ename": "TypeError",
     "evalue": "'NoneType' object is not callable",
     "output_type": "error",
     "traceback": [
      "\u001b[0;31m---------------------------------------------------------------------------\u001b[0m",
      "\u001b[0;31mTypeError\u001b[0m                                 Traceback (most recent call last)",
      "Cell \u001b[0;32mIn[2], line 16\u001b[0m\n\u001b[1;32m     14\u001b[0m voxposer_ui \u001b[38;5;241m=\u001b[39m lmps[\u001b[38;5;124m'\u001b[39m\u001b[38;5;124mplan_ui\u001b[39m\u001b[38;5;124m'\u001b[39m]\n\u001b[1;32m     15\u001b[0m set_lmp_objects(lmps, env\u001b[38;5;241m.\u001b[39mget_object_names())\n\u001b[0;32m---> 16\u001b[0m \u001b[43mvoxposer_ui\u001b[49m\u001b[43m(\u001b[49m\u001b[38;5;124;43m\"\u001b[39;49m\u001b[38;5;124;43mgo to the table\u001b[39;49m\u001b[38;5;124;43m\"\u001b[39;49m\u001b[43m)\u001b[49m\n",
      "File \u001b[0;32m/voxdata/workspace/VoxPoser/src/LMP.py:104\u001b[0m, in \u001b[0;36mLMP.__call__\u001b[0;34m(self, query, **kwargs)\u001b[0m\n\u001b[1;32m    102\u001b[0m \u001b[38;5;28;01mwhile\u001b[39;00m \u001b[38;5;28;01mTrue\u001b[39;00m:\n\u001b[1;32m    103\u001b[0m     \u001b[38;5;28;01mtry\u001b[39;00m:\n\u001b[0;32m--> 104\u001b[0m         code_str \u001b[38;5;241m=\u001b[39m \u001b[38;5;28;43mself\u001b[39;49m\u001b[38;5;241;43m.\u001b[39;49m\u001b[43m_engine_call\u001b[49m\u001b[43m(\u001b[49m\n\u001b[1;32m    105\u001b[0m \u001b[43m            \u001b[49m\u001b[43mprompt\u001b[49m\u001b[38;5;241;43m=\u001b[39;49m\u001b[43m(\u001b[49m\u001b[43mprompt\u001b[49m\u001b[43m,\u001b[49m\u001b[43m \u001b[49m\u001b[43msplited_prompt\u001b[49m\u001b[43m)\u001b[49m\u001b[43m,\u001b[49m\n\u001b[1;32m    106\u001b[0m \u001b[43m            \u001b[49m\u001b[43mstop\u001b[49m\u001b[38;5;241;43m=\u001b[39;49m\u001b[38;5;28;43mself\u001b[39;49m\u001b[38;5;241;43m.\u001b[39;49m\u001b[43m_stop_tokens\u001b[49m\u001b[43m,\u001b[49m\n\u001b[1;32m    107\u001b[0m \u001b[43m            \u001b[49m\u001b[43mtemperature\u001b[49m\u001b[38;5;241;43m=\u001b[39;49m\u001b[38;5;28;43mself\u001b[39;49m\u001b[38;5;241;43m.\u001b[39;49m\u001b[43m_cfg\u001b[49m\u001b[43m[\u001b[49m\u001b[38;5;124;43m\"\u001b[39;49m\u001b[38;5;124;43mtemperature\u001b[39;49m\u001b[38;5;124;43m\"\u001b[39;49m\u001b[43m]\u001b[49m\u001b[43m,\u001b[49m\n\u001b[1;32m    108\u001b[0m \u001b[43m            \u001b[49m\u001b[43mmodel\u001b[49m\u001b[38;5;241;43m=\u001b[39;49m\u001b[38;5;28;43mself\u001b[39;49m\u001b[38;5;241;43m.\u001b[39;49m\u001b[43m_cfg\u001b[49m\u001b[43m[\u001b[49m\u001b[38;5;124;43m\"\u001b[39;49m\u001b[38;5;124;43mmodel\u001b[39;49m\u001b[38;5;124;43m\"\u001b[39;49m\u001b[43m]\u001b[49m\u001b[43m,\u001b[49m\n\u001b[1;32m    109\u001b[0m \u001b[43m            \u001b[49m\u001b[43mmax_tokens\u001b[49m\u001b[38;5;241;43m=\u001b[39;49m\u001b[38;5;28;43mself\u001b[39;49m\u001b[38;5;241;43m.\u001b[39;49m\u001b[43m_cfg\u001b[49m\u001b[43m[\u001b[49m\u001b[38;5;124;43m\"\u001b[39;49m\u001b[38;5;124;43mmax_tokens\u001b[39;49m\u001b[38;5;124;43m\"\u001b[39;49m\u001b[43m]\u001b[49m\u001b[43m,\u001b[49m\n\u001b[1;32m    110\u001b[0m \u001b[43m            \u001b[49m\u001b[43muse_cache\u001b[49m\u001b[38;5;241;43m=\u001b[39;49m\u001b[38;5;28;43mself\u001b[39;49m\u001b[38;5;241;43m.\u001b[39;49m\u001b[43m_cfg\u001b[49m\u001b[43m[\u001b[49m\u001b[38;5;124;43m\"\u001b[39;49m\u001b[38;5;124;43mload_cache\u001b[39;49m\u001b[38;5;124;43m\"\u001b[39;49m\u001b[43m]\u001b[49m\u001b[43m,\u001b[49m\n\u001b[1;32m    111\u001b[0m \u001b[43m        \u001b[49m\u001b[43m)\u001b[49m\n\u001b[1;32m    112\u001b[0m         \u001b[38;5;28;01mbreak\u001b[39;00m\n\u001b[1;32m    113\u001b[0m     \u001b[38;5;28;01mexcept\u001b[39;00m (RateLimitError, APIConnectionError) \u001b[38;5;28;01mas\u001b[39;00m e:\n",
      "\u001b[0;31mTypeError\u001b[0m: 'NoneType' object is not callable"
     ]
    }
   ],
   "source": [
    "from arguments import get_config\n",
    "from interfaces import setup_LMP\n",
    "from visualizers import ValueMapVisualizer\n",
    "from utils import set_lmp_objects\n",
    "from envs.pyrep_quad_env import VoxPoserPyRepQuadcopterEnv\n",
    "from engine_interfaces import Dummy\n",
    "import numpy as np\n",
    "\n",
    "config_path = \"configs/pyrep_quadcopter.yaml\"\n",
    "scene_path = \"../../quadcopter.ttt\"\n",
    "config = get_config(config_path=config_path)\n",
    "visualizer = ValueMapVisualizer(config['visualizer'])\n",
    "env = VoxPoserPyRepQuadcopterEnv(visualizer=visualizer,headless=True,coppelia_scene_path=scene_path)\n",
    "dummy_engine = Dummy()\n",
    "lmps, lmp_env = setup_LMP(env, config, debug=False, engine=dummy_engine.__call__)\n",
    "voxposer_ui = lmps['plan_ui']\n",
    "set_lmp_objects(lmps, env.get_object_names())\n",
    "voxposer_ui(\"go to the table\")"
   ]
  }
 ],
 "metadata": {
  "kernelspec": {
   "display_name": "Python 3",
   "language": "python",
   "name": "python3"
  },
  "language_info": {
   "codemirror_mode": {
    "name": "ipython",
    "version": 3
   },
   "file_extension": ".py",
   "mimetype": "text/x-python",
   "name": "python",
   "nbconvert_exporter": "python",
   "pygments_lexer": "ipython3",
   "version": "3.9.5"
  }
 },
 "nbformat": 4,
 "nbformat_minor": 2
}
